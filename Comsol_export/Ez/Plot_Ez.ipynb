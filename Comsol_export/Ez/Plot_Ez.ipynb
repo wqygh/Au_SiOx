{
 "cells": [
  {
   "cell_type": "markdown",
   "metadata": {},
   "source": [
    "# Package"
   ]
  },
  {
   "cell_type": "code",
   "execution_count": 1,
   "metadata": {},
   "outputs": [],
   "source": [
    "import pandas as pd\n",
    "import numpy as np\n",
    "import matplotlib.pyplot as plt\n",
    "from scipy.interpolate import griddata\n",
    "import glob as glob\n",
    "import os"
   ]
  },
  {
   "cell_type": "markdown",
   "metadata": {},
   "source": [
    "# Set directory"
   ]
  },
  {
   "cell_type": "code",
   "execution_count": 2,
   "metadata": {},
   "outputs": [
    {
     "data": {
      "text/plain": [
       "'C:\\\\Users\\\\wqysb\\\\Google Drive\\\\papers\\\\Au SiO2 100\\\\Au_SiOx\\\\Comsol_export\\\\Ez'"
      ]
     },
     "execution_count": 2,
     "metadata": {},
     "output_type": "execute_result"
    }
   ],
   "source": [
    "#os.chdir('.\\\\Ez')\n",
    "os.getcwd()"
   ]
  },
  {
   "cell_type": "markdown",
   "metadata": {},
   "source": [
    "# Import and filter data"
   ]
  },
  {
   "cell_type": "code",
   "execution_count": 6,
   "metadata": {
    "scrolled": true
   },
   "outputs": [],
   "source": [
    "def get_file_names():\n",
    "    return glob.glob('*data*.txt')\n",
    "\n",
    "def read_and_filter_plot_data(yrange, zrange, f):\n",
    "    data = pd.read_csv(f, skiprows = 9, sep='\\s+', names=['y','z','Ez'])\n",
    "    yfilter = np.logical_and(data.y<=yrange[0], data.y>=yrange[1])\n",
    "    zfilter = np.logical_and(data.z<=zrange[0], data.z>=zrange[1])\n",
    "    yzf = np.logical_and(yfilter, zfilter)\n",
    "    fdata = data[yzf].copy().reset_index(drop=True)\n",
    "    return fdata\n",
    "\n",
    "def read_and_filter_raw_data(xcoor, yrange, zrange, f):\n",
    "    data = pd.read_csv(f, skiprows = 9, sep='\\s+', names=['x', 'y','z','Ez'])\n",
    "    yfilter = np.logical_and(data.y<=yrange[0], data.y>=yrange[1])\n",
    "    zfilter = np.logical_and(data.z<=zrange[0], data.z>=zrange[1])\n",
    "    yzf = np.logical_and(yfilter, zfilter)\n",
    "    fdata = data[data.x==xcoor][yzf].copy().reset_index(drop=True)\n",
    "    return fdata\n",
    "\n",
    "def data_dict(yrange, fnlist, raw=False):\n",
    "    dlist = {}\n",
    "    \n",
    "    if not raw:\n",
    "        for f in fnlist:\n",
    "            SiO_t = float(f.split('_')[2])\n",
    "            zrange = [SiO_t+0.4, SiO_t-0.2]\n",
    "            print(zrange)\n",
    "            dlist[SiO_t] = read_and_filter_plot_data(yrange, zrange, f)\n",
    "    else:\n",
    "        xcoor = float(input('x coordinate: '))\n",
    "        for f in fnlist:\n",
    "            SiO_t = float(f.split('_')[2])\n",
    "            zrange = [SiO_t+0.4, SiO_t-0.2]\n",
    "            print(zrange)\n",
    "            dlist[SiO_t] = read_and_filter_raw_data(xcoor, yrange, zrange, f)\n",
    "    return dlist"
   ]
  },
  {
   "cell_type": "code",
   "execution_count": 7,
   "metadata": {},
   "outputs": [
    {
     "name": "stdout",
     "output_type": "stream",
     "text": [
      "x coordinate: 0\n",
      "[1.4, 0.8]\n"
     ]
    },
    {
     "name": "stderr",
     "output_type": "stream",
     "text": [
      "C:\\Users\\wqysb\\Anaconda3\\lib\\site-packages\\ipykernel_launcher.py:17: UserWarning: Boolean Series key will be reindexed to match DataFrame index.\n"
     ]
    }
   ],
   "source": [
    "file = get_file_names()\n",
    "dl = data_dict([1.5, -1.5], file, True)"
   ]
  },
  {
   "cell_type": "code",
   "execution_count": 8,
   "metadata": {},
   "outputs": [
    {
     "name": "stdout",
     "output_type": "stream",
     "text": [
      "0.8035899999999999\n"
     ]
    }
   ],
   "source": [
    "for v in dl.values():\n",
    "    print(v.z.min())"
   ]
  },
  {
   "cell_type": "markdown",
   "metadata": {},
   "source": [
    "# Remove cycle and interpolate"
   ]
  },
  {
   "cell_type": "code",
   "execution_count": 15,
   "metadata": {},
   "outputs": [],
   "source": [
    "def remove_particle(r, data_dict):\n",
    "    # make the grid and remove the particle area, return a dictionary of grids with key is the thickness of SiOx\n",
    "    grid_dict = {}\n",
    "    for k, v in data_dict.items():\n",
    "        points = np.transpose([v.y, v.z])\n",
    "        values = v.Ez.values\n",
    "        \n",
    "        y_min, y_max = v.y.min(), v.y.max()\n",
    "        z_min, z_max = v.z.min(), v.z.max()\n",
    "        # the range of area\n",
    "        y0, z0 = 0.0, k + r # coordinate of the center of particle\n",
    "        \n",
    "        grid_y0, grid_z0 = np.mgrid[y_min:y_max:30000j, z_min:z_max:6000j] # make the grid matrix\n",
    "        \n",
    "        # use complex number to help setup the grid mask\n",
    "        grid = grid_y0 + 1.j * grid_z0\n",
    "        center = y0 + 1.j * z0\n",
    "\n",
    "        # Set inside the particle to NaN to remove the particle\n",
    "        grid_mask = np.less_equal(abs(grid - center), r)\n",
    "        grid[grid_mask] = np.nan\n",
    "        grid_y1, grid_z1 = grid.real, grid.imag\n",
    "        \n",
    "        grid_z2 = griddata(points, values, (grid_y1, grid_z1), method='linear') # interpolate the Ez in the grid with particle removed\n",
    "        \n",
    "        grid_dict[k] = grid_z2\n",
    "    \n",
    "    return grid_dict"
   ]
  },
  {
   "cell_type": "code",
   "execution_count": 16,
   "metadata": {},
   "outputs": [],
   "source": [
    "gl = remove_particle(1.1, dl)"
   ]
  },
  {
   "cell_type": "code",
   "execution_count": 11,
   "metadata": {},
   "outputs": [
    {
     "data": {
      "text/plain": [
       "-12106415694.96226"
      ]
     },
     "execution_count": 11,
     "metadata": {},
     "output_type": "execute_result"
    }
   ],
   "source": [
    "gl[1.0][~np.isnan(gl[1.0])].min()"
   ]
  },
  {
   "cell_type": "code",
   "execution_count": 12,
   "metadata": {},
   "outputs": [
    {
     "data": {
      "text/plain": [
       "[1.0]"
      ]
     },
     "execution_count": 12,
     "metadata": {},
     "output_type": "execute_result"
    }
   ],
   "source": [
    "sorted(gl.keys())"
   ]
  },
  {
   "cell_type": "markdown",
   "metadata": {},
   "source": [
    "# Plotting"
   ]
  },
  {
   "cell_type": "code",
   "execution_count": 13,
   "metadata": {},
   "outputs": [],
   "source": [
    "def plot_Ez(grid_dict):\n",
    "    num_of_sample = len(grid_dict)\n",
    "    rows = num_of_sample//3+1\n",
    "    i = 1\n",
    "    sorted_key_list = sorted(list(grid_dict))\n",
    "    vma=grid_dict[1.0][~np.isnan(grid_dict[1.0])].max()\n",
    "    vmi=grid_dict[1.0][~np.isnan(grid_dict[1.0])].min()*0.25\n",
    "    plt.figure(figsize=(20,rows*2))\n",
    "    for k in sorted_key_list:\n",
    "        plt.subplot(rows, 3, i, title=str(k))\n",
    "        plt.imshow(np.transpose(gl[k]), extent=[-1.5, 1.5, -0.2, 0.3], origin='lower', vmin=vmi, vmax=vma)\n",
    "        i=i+1\n",
    "    plt.show()"
   ]
  },
  {
   "cell_type": "code",
   "execution_count": 17,
   "metadata": {},
   "outputs": [
    {
     "data": {
      "image/png": "[encoded data removed]",
      "text/plain": [
       "<Figure size 1440x144 with 1 Axes>"
      ]
     },
     "metadata": {
      "needs_background": "light"
     },
     "output_type": "display_data"
    }
   ],
   "source": [
    "plot_Ez(gl)"
   ]
  },
  {
   "cell_type": "markdown",
   "metadata": {},
   "source": [
    "# Export"
   ]
  }
 ],
 "metadata": {
  "kernelspec": {
   "display_name": "Python 3",
   "language": "python",
   "name": "python3"
  },
  "language_info": {
   "codemirror_mode": {
    "name": "ipython",
    "version": 3
   },
   "file_extension": ".py",
   "mimetype": "text/x-python",
   "name": "python",
   "nbconvert_exporter": "python",
   "pygments_lexer": "ipython3",
   "version": "3.7.1"
  }
 },
 "nbformat": 4,
 "nbformat_minor": 2
}
